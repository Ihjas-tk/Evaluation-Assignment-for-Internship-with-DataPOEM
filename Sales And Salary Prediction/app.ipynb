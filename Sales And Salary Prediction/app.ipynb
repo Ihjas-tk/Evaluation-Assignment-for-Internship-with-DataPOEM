{
 "cells": [
  {
   "cell_type": "code",
   "execution_count": 1,
   "id": "3d64a951",
   "metadata": {},
   "outputs": [],
   "source": [
    "from flask import Flask, request, jsonify\n",
    "import pandas as pd\n",
    "import pickle\n",
    "import math\n",
    "import numpy as np\n",
    "model_sales = pickle.load(open(\"model.pkl\",\"rb\"))\n",
    "model_salary = pickle.load(open(\"sal_model.pkl\",\"rb\"))\n",
    "app = Flask(__name__)"
   ]
  },
  {
   "cell_type": "code",
   "execution_count": 2,
   "id": "6408ff9f",
   "metadata": {},
   "outputs": [],
   "source": [
    "@app.route(\"/predict\",methods = [\"POST\"])\n",
    "def predict():\n",
    "    json_ = request.json\n",
    "    df = pd.DataFrame(json_)\n",
    "    if df['Model'][0] == 1:\n",
    "        query_df = df.drop(['Model'],axis = 1)\n",
    "        prediction = model_sales.predict(query_df)\n",
    "        prediction = [math.exp(i) for i in prediction]\n",
    "        return jsonify({\"Sales Prediction\":list(prediction)})\n",
    "    elif df['Model'][0] == 0:\n",
    "        query_df = df.drop(['Model'],axis = 1)\n",
    "        prediction = model_salary.predict(query_df)\n",
    "        return jsonify({\"Salary Prediction\":list(prediction)})"
   ]
  },
  {
   "cell_type": "code",
   "execution_count": null,
   "id": "48f4e03e",
   "metadata": {},
   "outputs": [
    {
     "name": "stdout",
     "output_type": "stream",
     "text": [
      " * Serving Flask app '__main__' (lazy loading)\n",
      " * Environment: production\n",
      "\u001b[31m   WARNING: This is a development server. Do not use it in a production deployment.\u001b[0m\n",
      "\u001b[2m   Use a production WSGI server instead.\u001b[0m\n",
      " * Debug mode: off\n"
     ]
    },
    {
     "name": "stderr",
     "output_type": "stream",
     "text": [
      " * Running on http://127.0.0.1:8000/ (Press CTRL+C to quit)\n",
      "127.0.0.1 - - [27/Nov/2021 11:46:40] \"POST /predict HTTP/1.1\" 200 -\n",
      "127.0.0.1 - - [27/Nov/2021 11:47:19] \"POST /predict HTTP/1.1\" 200 -\n",
      "127.0.0.1 - - [27/Nov/2021 11:47:36] \"POST /predict HTTP/1.1\" 200 -\n",
      "127.0.0.1 - - [27/Nov/2021 11:48:11] \"\u001b[31m\u001b[1mPOST /predict HTTP/1.1\u001b[0m\" 400 -\n",
      "127.0.0.1 - - [27/Nov/2021 11:53:19] \"POST /predict HTTP/1.1\" 200 -\n",
      "127.0.0.1 - - [27/Nov/2021 11:53:56] \"POST /predict HTTP/1.1\" 200 -\n"
     ]
    }
   ],
   "source": [
    "if __name__ == '__main__':\n",
    "    app.run(port=8000)"
   ]
  },
  {
   "cell_type": "code",
   "execution_count": null,
   "id": "feb70814",
   "metadata": {},
   "outputs": [],
   "source": [
    "\n",
    "# import json\n",
    "\n",
    "# # some JSON:\n",
    "# x =  '[{\"Store\": 1, \"DayOfWeek\": 5, \"Customers\":555, \"Open\": 1, \"Promo\": 1, \"StateHoliday\": 0,\"SchoolHoliday\": 1, \"StoreType\": 3, \"Assortment\": 1, \"CompetitionDistance\": 1270,\"CompetitionOpenSinceMonth\": 9, \"CompetitionOpenSinceYear\": 2008, \"Promo2\" :0,\"Promo2SinceWeek\" :0, \"Promo2SinceYear\" :2011, \"PromoInterval\": 1, \"day\": 31, \"month\": 7,\"year\": 15}]'\n",
    "# y = json.loads(x)\n",
    "# type(y)"
   ]
  },
  {
   "cell_type": "code",
   "execution_count": null,
   "id": "a03dfecb",
   "metadata": {},
   "outputs": [],
   "source": []
  },
  {
   "cell_type": "code",
   "execution_count": null,
   "id": "4152541e",
   "metadata": {},
   "outputs": [],
   "source": [
    "\n",
    "# query_df = pd.DataFrame(y)\n",
    "# print(query_df)\n",
    "# prediction = model.predict(query_df)\n",
    "# print(prediction)"
   ]
  }
 ],
 "metadata": {
  "kernelspec": {
   "display_name": "Python 3",
   "language": "python",
   "name": "python3"
  },
  "language_info": {
   "codemirror_mode": {
    "name": "ipython",
    "version": 3
   },
   "file_extension": ".py",
   "mimetype": "text/x-python",
   "name": "python",
   "nbconvert_exporter": "python",
   "pygments_lexer": "ipython3",
   "version": "3.8.6"
  }
 },
 "nbformat": 4,
 "nbformat_minor": 5
}
