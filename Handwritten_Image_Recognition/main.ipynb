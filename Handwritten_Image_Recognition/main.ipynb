{
 "cells": [
  {
   "cell_type": "code",
   "execution_count": 1,
   "id": "public-weapon",
   "metadata": {},
   "outputs": [],
   "source": [
    "from werkzeug.wrappers import Request, Response\n",
    "from flask import *\n",
    "import tensorflow as tf\n",
    "from tensorflow.keras.models import load_model\n",
    "import numpy as np\n",
    "from tensorflow.keras.preprocessing import image\n",
    "import cv2\n",
    "import sqlite3\n",
    "app.secret_key='some'\n",
    "model = load_model('final_model.h5')\n",
    "\n",
    "app = Flask(__name__)\n",
    "\n",
    "@app.route(\"/\")\n",
    "def hello():\n",
    "    return render_template('index.html')"
   ]
  },
  {
   "cell_type": "code",
   "execution_count": 2,
   "id": "6defc2f6",
   "metadata": {},
   "outputs": [],
   "source": [
    "def alredyPredicted(file_name):\n",
    "    connection = sqlite3.connect('mnist.db')\n",
    "    cursor=connection.cursor()\n",
    "    que2 = 'select * from predicted_data'\n",
    "    r = cursor.execute(que2)\n",
    "    result = r.fetchall()\n",
    "    for i in range(len(result)):\n",
    "        if result[i][1]==file_name:\n",
    "            return result[i][2]\n",
    "    return False"
   ]
  },
  {
   "cell_type": "code",
   "execution_count": 3,
   "id": "expired-heart",
   "metadata": {},
   "outputs": [],
   "source": [
    "@app.route('/success', methods = ['POST'])  \n",
    "def success():  \n",
    "    if request.method == 'POST':  \n",
    "        \n",
    "        connection = sqlite3.connect('mnist.db')\n",
    "        cursor=connection.cursor()\n",
    "        f = request.files['file']  \n",
    "        f.save(f.filename)\n",
    "        \n",
    "        pred = alredyPredicted(f.filename)\n",
    "        if pred == False:\n",
    "            image = cv2.imread(f.filename) \n",
    "            img=cv2.cvtColor(image, cv2.COLOR_BGR2GRAY)\n",
    "            img = cv2.resize(img, (28, 28))\n",
    "            img = img.astype('float32')\n",
    "            img = img.reshape(1,28, 28,1)\n",
    "            img /=255\n",
    "            va=model.predict(img).argmax()\n",
    "            query1 = 'INSERT INTO predicted_data(filename,predicted) VALUES(\"{fl}\",{pre})'.format(fl = f.filename, pre = va)\n",
    "            cursor.execute(query1)\n",
    "            connection.commit()\n",
    "            return render_template(\"success.html\", val = [False,va])  \n",
    "        else:\n",
    "            return render_template(\"success.html\", val = [True,pred])"
   ]
  },
  {
   "cell_type": "code",
   "execution_count": null,
   "id": "adjusted-produce",
   "metadata": {},
   "outputs": [
    {
     "name": "stderr",
     "output_type": "stream",
     "text": [
      " * Running on http://localhost:9000/ (Press CTRL+C to quit)\n",
      "127.0.0.1 - - [27/Nov/2021 09:48:50] \"GET / HTTP/1.1\" 200 -\n",
      "127.0.0.1 - - [27/Nov/2021 09:48:50] \"\u001b[36mGET /static/style.css HTTP/1.1\u001b[0m\" 304 -\n",
      "127.0.0.1 - - [27/Nov/2021 09:49:12] \"POST /success HTTP/1.1\" 200 -\n",
      "127.0.0.1 - - [27/Nov/2021 09:49:12] \"\u001b[33mGET /css/style.css HTTP/1.1\u001b[0m\" 404 -\n",
      "127.0.0.1 - - [27/Nov/2021 09:49:23] \"POST /success HTTP/1.1\" 200 -\n",
      "127.0.0.1 - - [27/Nov/2021 09:49:23] \"\u001b[33mGET /css/style.css HTTP/1.1\u001b[0m\" 404 -\n",
      "127.0.0.1 - - [27/Nov/2021 09:49:39] \"POST /success HTTP/1.1\" 200 -\n",
      "127.0.0.1 - - [27/Nov/2021 09:49:39] \"\u001b[33mGET /css/style.css HTTP/1.1\u001b[0m\" 404 -\n"
     ]
    }
   ],
   "source": [
    "if __name__ == '__main__':\n",
    "    from werkzeug.serving import run_simple\n",
    "    run_simple('localhost', 9000, app)"
   ]
  }
 ],
 "metadata": {
  "kernelspec": {
   "display_name": "Python 3",
   "language": "python",
   "name": "python3"
  },
  "language_info": {
   "codemirror_mode": {
    "name": "ipython",
    "version": 3
   },
   "file_extension": ".py",
   "mimetype": "text/x-python",
   "name": "python",
   "nbconvert_exporter": "python",
   "pygments_lexer": "ipython3",
   "version": "3.8.6"
  }
 },
 "nbformat": 4,
 "nbformat_minor": 5
}
