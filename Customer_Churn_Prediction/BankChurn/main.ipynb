{
 "cells": [
  {
   "cell_type": "code",
   "execution_count": 1,
   "id": "0b35b2a2",
   "metadata": {},
   "outputs": [],
   "source": [
    "from flask import *\n",
    "import requests\n",
    "import joblib\n",
    "\n",
    "loaded_rf = joblib.load(\"my_random_forest.joblib\")\n",
    "\n",
    "app = Flask(__name__)\n",
    "app.secret_key='some'\n",
    "@app.route('/')\n",
    "def home():\n",
    "    return render_template('home.html')"
   ]
  },
  {
   "cell_type": "code",
   "execution_count": 2,
   "id": "d1dc93be",
   "metadata": {},
   "outputs": [],
   "source": [
    "@app.route('/back')\n",
    "def back():\n",
    "    return render_template('home.html')"
   ]
  },
  {
   "cell_type": "code",
   "execution_count": 3,
   "id": "80fd48d3",
   "metadata": {},
   "outputs": [],
   "source": [
    "\n",
    "@app.route('/go',methods=['POST','GET'])\n",
    "def go():\n",
    "    loc_ger=0\n",
    "    loc_spa=0\n",
    "    loc_frc=0\n",
    "    id = int(request.form['id'])\n",
    "    cred = int(request.form['credit'])\n",
    "    loc = request.form['loc']\n",
    "    gender = int(request.form['gender'])\n",
    "    age = int(request.form['age'])\n",
    "    ten = int(request.form['tenure'])\n",
    "    bal = int(request.form['bal'])\n",
    "    nop = int(request.form['nop'])\n",
    "    card = int(request.form['card'])\n",
    "    act = int(request.form['act'])\n",
    "    sal = int(request.form['sal'])\n",
    "\n",
    "    if loc == 'ger':\n",
    "        loc_ger = 1\n",
    "    elif loc == 'spa':\n",
    "        loc_spa = 1\n",
    "    elif loc == 'frn':\n",
    "        loc_frc = 1\n",
    "    array_of_input_fields = [\"CreditScore\", \"Gender\", \"Age\", \"Tenure\", \"Balance\", \"NumOfProducts\", \"HasCrCard\",\n",
    "                             \"IsActiveMember\", \"EstimatedSalary\", \"Germany\", \"France\", \"Spain\"]\n",
    "    print(array_of_input_fields)\n",
    "    array_of_values_to_be_scored = [cred, gender, age, ten, bal, nop, card, act, sal, loc_ger, loc_frc, loc_spa]\n",
    "    var = loaded_rf.predict([array_of_values_to_be_scored])\n",
    "    if var == 0:\n",
    "        out=\"The Customer Wont Exit\"\n",
    "    elif var == 1:\n",
    "        out = \"The Customer Will Exit\"\n",
    "\n",
    "    return render_template('home.html', out=out)"
   ]
  },
  {
   "cell_type": "code",
   "execution_count": null,
   "id": "c7778883",
   "metadata": {},
   "outputs": [
    {
     "name": "stdout",
     "output_type": "stream",
     "text": [
      " * Serving Flask app '__main__' (lazy loading)\n",
      " * Environment: production\n",
      "\u001b[31m   WARNING: This is a development server. Do not use it in a production deployment.\u001b[0m\n",
      "\u001b[2m   Use a production WSGI server instead.\u001b[0m\n",
      " * Debug mode: off\n"
     ]
    },
    {
     "name": "stderr",
     "output_type": "stream",
     "text": [
      " * Running on http://127.0.0.1:5000/ (Press CTRL+C to quit)\n",
      "127.0.0.1 - - [27/Nov/2021 11:16:31] \"GET / HTTP/1.1\" 200 -\n",
      "127.0.0.1 - - [27/Nov/2021 11:16:31] \"\u001b[36mGET /static/style.css HTTP/1.1\u001b[0m\" 304 -\n",
      "127.0.0.1 - - [27/Nov/2021 11:16:31] \"\u001b[33mGET /ml.png HTTP/1.1\u001b[0m\" 404 -\n",
      "127.0.0.1 - - [27/Nov/2021 11:18:13] \"POST /go HTTP/1.1\" 200 -\n",
      "127.0.0.1 - - [27/Nov/2021 11:18:13] \"\u001b[36mGET /static/style.css HTTP/1.1\u001b[0m\" 304 -\n",
      "127.0.0.1 - - [27/Nov/2021 11:18:13] \"\u001b[33mGET /ml.png HTTP/1.1\u001b[0m\" 404 -\n"
     ]
    },
    {
     "name": "stdout",
     "output_type": "stream",
     "text": [
      "['CreditScore', 'Gender', 'Age', 'Tenure', 'Balance', 'NumOfProducts', 'HasCrCard', 'IsActiveMember', 'EstimatedSalary', 'Germany', 'France', 'Spain']\n"
     ]
    },
    {
     "name": "stderr",
     "output_type": "stream",
     "text": [
      "127.0.0.1 - - [27/Nov/2021 11:19:36] \"POST /go HTTP/1.1\" 200 -\n",
      "127.0.0.1 - - [27/Nov/2021 11:19:36] \"\u001b[36mGET /static/style.css HTTP/1.1\u001b[0m\" 304 -\n",
      "127.0.0.1 - - [27/Nov/2021 11:19:36] \"\u001b[33mGET /ml.png HTTP/1.1\u001b[0m\" 404 -\n"
     ]
    },
    {
     "name": "stdout",
     "output_type": "stream",
     "text": [
      "['CreditScore', 'Gender', 'Age', 'Tenure', 'Balance', 'NumOfProducts', 'HasCrCard', 'IsActiveMember', 'EstimatedSalary', 'Germany', 'France', 'Spain']\n"
     ]
    }
   ],
   "source": [
    "if __name__ == '__main__':\n",
    "    app.run()"
   ]
  },
  {
   "cell_type": "code",
   "execution_count": null,
   "id": "d05626b3",
   "metadata": {},
   "outputs": [],
   "source": []
  }
 ],
 "metadata": {
  "kernelspec": {
   "display_name": "Python 3",
   "language": "python",
   "name": "python3"
  },
  "language_info": {
   "codemirror_mode": {
    "name": "ipython",
    "version": 3
   },
   "file_extension": ".py",
   "mimetype": "text/x-python",
   "name": "python",
   "nbconvert_exporter": "python",
   "pygments_lexer": "ipython3",
   "version": "3.8.6"
  }
 },
 "nbformat": 4,
 "nbformat_minor": 5
}
